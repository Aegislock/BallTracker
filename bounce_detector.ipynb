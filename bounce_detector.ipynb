{
 "cells": [
  {
   "cell_type": "code",
   "execution_count": 1,
   "metadata": {},
   "outputs": [],
   "source": [
    "import os\n",
    "import pandas as pd\n",
    "import numpy as np\n",
    "from tqdm import tqdm\n",
    "from sklearn.ensemble import RandomForestRegressor\n",
    "from sklearn.model_selection import train_test_split\n",
    "from sklearn.metrics import confusion_matrix, accuracy_score\n",
    "import catboost as ctb"
   ]
  },
  {
   "cell_type": "code",
   "execution_count": 1,
   "metadata": {},
   "outputs": [],
   "source": [
    "from sklearn import svm"
   ]
  },
  {
   "cell_type": "code",
   "execution_count": 7,
   "metadata": {},
   "outputs": [],
   "source": [
    "NUM_FEATURE_FRAMES = 3\n",
    "dataset_path = 'Dataset\\\\Dataset'"
   ]
  },
  {
   "cell_type": "code",
   "execution_count": null,
   "metadata": {},
   "outputs": [],
   "source": [
    "train(dataset_path, save_path='Bounce Detection Models\\\\model_bounce_SVM', task='hit')"
   ]
  },
  {
   "cell_type": "code",
   "execution_count": 10,
   "metadata": {},
   "outputs": [],
   "source": [
    "def train(dataset_path, save_path, task):\n",
    "    NUM_FEATURE_FRAMES = 3\n",
    "    df_features = create_features(dataset_path, NUM_FEATURE_FRAMES, task)\n",
    "    X_train, y_train, X_test, y_test = create_train_test(df_features, NUM_FEATURE_FRAMES)\n",
    "\n",
    "    train_dataset = ctb.Pool(X_train, y_train)\n",
    "    model_ctb = ctb.CatBoostRegressor(loss_function='MAE')\n",
    "    grid = {'iterations': [150, 200, 250],\n",
    "            'learning_rate': [0.03, 0.1],\n",
    "            'depth': [2, 4, 6],\n",
    "            'l2_leaf_reg': [0.2, 0.5, 1, 3]}\n",
    "    model_ctb.grid_search(grid, train_dataset)\n",
    "    \n",
    "    pred_ctb = model_ctb.predict(X_test)\n",
    "    y_pred_bin = (pred_ctb > 0.3).astype(int)\n",
    "    \n",
    "    tn, fp, fn, tp = confusion_matrix(y_test, y_pred_bin).ravel()\n",
    "    print('tn = {}, fp = {}, fn = {}, tp = {}'.format(tn, fp, fn, tp))\n",
    "    print('accuracy = {}'.format(accuracy_score(y_test, y_pred_bin)))\n",
    "    \n",
    "    # Calculate overall accuracy\n",
    "    accuracy = accuracy_score(y_test, y_pred_bin)\n",
    "    \n",
    "    # # Print accuracy\n",
    "    print('Accuracy = {:.4f}'.format(accuracy))\n",
    "    \n",
    "    model_ctb.save_model(save_path)"
   ]
  },
  {
   "cell_type": "code",
   "execution_count": 3,
   "metadata": {},
   "outputs": [],
   "source": [
    "def create_features(path_dataset, num_frames, task):\n",
    "    if task == 'bounce':\n",
    "        status = 2\n",
    "    elif task == 'hit':\n",
    "        status = 1\n",
    "    games = os.listdir(path_dataset)\n",
    "    games.remove('Readme.docx')\n",
    "    df = pd.DataFrame()\n",
    "    for game in tqdm(games):\n",
    "        clips = os.listdir(os.path.join(path_dataset, game))\n",
    "        for clip in clips:\n",
    "            labels = pd.read_csv(os.path.join(path_dataset, game, clip, 'Label.csv'))\n",
    "\n",
    "            eps = 1e-15\n",
    "            for i in range(1, num_frames):\n",
    "                labels['x_lag_{}'.format(i)] = labels['x-coordinate'].shift(i)\n",
    "                labels['x_lag_inv_{}'.format(i)] = labels['x-coordinate'].shift(-i)\n",
    "                labels['y_lag_{}'.format(i)] = labels['y-coordinate'].shift(i)\n",
    "                labels['y_lag_inv_{}'.format(i)] = labels['y-coordinate'].shift(-i) \n",
    "                labels['x_diff_{}'.format(i)] = abs(labels['x_lag_{}'.format(i)] - labels['x-coordinate'])\n",
    "                labels['y_diff_{}'.format(i)] = labels['y_lag_{}'.format(i)] - labels['y-coordinate']\n",
    "                labels['x_diff_inv_{}'.format(i)] = abs(labels['x_lag_inv_{}'.format(i)] - labels['x-coordinate'])\n",
    "                labels['y_diff_inv_{}'.format(i)] = labels['y_lag_inv_{}'.format(i)] - labels['y-coordinate']\n",
    "                labels['x_div_{}'.format(i)] = abs(labels['x_diff_{}'.format(i)]/(labels['x_diff_inv_{}'.format(i)] + eps))\n",
    "                labels['y_div_{}'.format(i)] = labels['y_diff_{}'.format(i)]/(labels['y_diff_inv_{}'.format(i)] + eps)\n",
    "\n",
    "            labels['target'] = (labels['status'] == status).astype(int)    \n",
    "            for i in range(1, num_frames):    \n",
    "                labels = labels[labels['x_lag_{}'.format(i)].notna()]\n",
    "                labels = labels[labels['x_lag_inv_{}'.format(i)].notna()]\n",
    "            labels = labels[labels['x-coordinate'].notna()]  \n",
    "\n",
    "            labels['status'] = labels['status'].astype(int)\n",
    "            df = df.append(labels)\n",
    "    return df\n",
    "\n",
    "def create_train_test(df, num_frames):\n",
    "    colnames_x = ['x_diff_{}'.format(i) for i in range(1, num_frames)] + \\\n",
    "                 ['x_diff_inv_{}'.format(i) for i in range(1, num_frames)] + \\\n",
    "                 ['x_div_{}'.format(i) for i in range(1, num_frames)]\n",
    "    colnames_y = ['y_diff_{}'.format(i) for i in range(1, num_frames)] + \\\n",
    "                 ['y_diff_inv_{}'.format(i) for i in range(1, num_frames)] + \\\n",
    "                 ['y_div_{}'.format(i) for i in range(1, num_frames)]\n",
    "    colnames = colnames_x + colnames_y \n",
    "    df_train, df_test = train_test_split(df, test_size=0.25, random_state=5)\n",
    "    X_train = df_train[colnames]\n",
    "    X_test = df_test[colnames]\n",
    "    y_train = df_train['target']\n",
    "    y_test = df_test['target']\n",
    "    return X_train, y_train, X_test, y_test"
   ]
  },
  {
   "cell_type": "code",
   "execution_count": null,
   "metadata": {},
   "outputs": [],
   "source": []
  }
 ],
 "metadata": {
  "kernelspec": {
   "display_name": "base",
   "language": "python",
   "name": "python3"
  },
  "language_info": {
   "codemirror_mode": {
    "name": "ipython",
    "version": 3
   },
   "file_extension": ".py",
   "mimetype": "text/x-python",
   "name": "python",
   "nbconvert_exporter": "python",
   "pygments_lexer": "ipython3",
   "version": "3.10.9"
  }
 },
 "nbformat": 4,
 "nbformat_minor": 2
}
